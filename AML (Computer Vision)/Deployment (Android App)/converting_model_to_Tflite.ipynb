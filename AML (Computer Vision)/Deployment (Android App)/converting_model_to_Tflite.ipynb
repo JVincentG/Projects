{
  "nbformat": 4,
  "nbformat_minor": 0,
  "metadata": {
    "colab": {
      "name": "converting model to Tflite.ipynb",
      "provenance": [],
      "collapsed_sections": []
    },
    "kernelspec": {
      "name": "python3",
      "display_name": "Python 3"
    },
    "language_info": {
      "name": "python"
    }
  },
  "cells": [
    {
      "cell_type": "markdown",
      "source": [
        "# Load tf model"
      ],
      "metadata": {
        "id": "NdB6i92Rj2Zl"
      }
    },
    {
      "cell_type": "code",
      "source": [
        "import tensorflow as tf\n",
        "import os\n",
        "from tensorflow.keras.models import load_model\n",
        "import tensorflow_hub as hub\n",
        "\n",
        "catanddog_classifier = tf.keras.models.load_model(\n",
        "       ('/content/Model 3 (Transfer Learning).h5'),\n",
        "       custom_objects={'KerasLayer':hub.KerasLayer}\n",
        ")"
      ],
      "metadata": {
        "id": "RHbDq3aUj5x8"
      },
      "execution_count": null,
      "outputs": []
    },
    {
      "cell_type": "markdown",
      "source": [
        "# Convert Model to TFLite"
      ],
      "metadata": {
        "id": "dknzk4kGjxrW"
      }
    },
    {
      "cell_type": "code",
      "execution_count": null,
      "metadata": {
        "colab": {
          "base_uri": "https://localhost:8080/"
        },
        "id": "BhgpM8hRivIs",
        "outputId": "a9c66336-b18b-4e8f-919b-fe188fadd29d"
      },
      "outputs": [
        {
          "output_type": "stream",
          "name": "stderr",
          "text": [
            "WARNING:absl:Buffer deduplication procedure will be skipped when flatbuffer library is not properly loaded\n"
          ]
        }
      ],
      "source": [
        "converter = tf.lite.TFLiteConverter.from_keras_model(catanddog_classifier)\n",
        "tflite_model = converter.convert()\n",
        "\n",
        "with open(\"cat_dog_classifier.tflite\", 'wb') as f:\n",
        "  f.write(tflite_model)"
      ]
    }
  ]
}